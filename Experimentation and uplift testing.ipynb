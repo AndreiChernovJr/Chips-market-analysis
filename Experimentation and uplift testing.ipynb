{
 "cells": [
  {
   "cell_type": "markdown",
   "id": "34dbe001",
   "metadata": {},
   "source": [
    "## Description"
   ]
  },
  {
   "cell_type": "markdown",
   "id": "ab933b0f",
   "metadata": {},
   "source": [
    "We have been asked to evaluate the performance of a store trial which was performed in stores 77, 86 and 88.\n",
    "\n",
    "We need to create a measure to compare different control stores to each of the trial stores and choose 3 control stores.\n",
    "\n",
    "Once having selected control stores, we need to compare each trial and control pair during the trial period. We need to test if total sales are significantly different in the trial period and if so, check if the driver of change is more purchasing customers or more purchases per customers etc."
   ]
  },
  {
   "cell_type": "code",
   "execution_count": 1,
   "id": "bed6d144",
   "metadata": {},
   "outputs": [],
   "source": [
    "import pandas as pd \n",
    "import numpy as np\n",
    "import matplotlib.pyplot as plt\n",
    "import math\n",
    "from scipy import stats"
   ]
  },
  {
   "cell_type": "markdown",
   "id": "90d0693f",
   "metadata": {},
   "source": [
    "#  Loading and Checking data"
   ]
  },
  {
   "cell_type": "code",
   "execution_count": 2,
   "id": "c74db9d5",
   "metadata": {
    "scrolled": false
   },
   "outputs": [
    {
     "data": {
      "text/html": [
       "<div>\n",
       "<style scoped>\n",
       "    .dataframe tbody tr th:only-of-type {\n",
       "        vertical-align: middle;\n",
       "    }\n",
       "\n",
       "    .dataframe tbody tr th {\n",
       "        vertical-align: top;\n",
       "    }\n",
       "\n",
       "    .dataframe thead th {\n",
       "        text-align: right;\n",
       "    }\n",
       "</style>\n",
       "<table border=\"1\" class=\"dataframe\">\n",
       "  <thead>\n",
       "    <tr style=\"text-align: right;\">\n",
       "      <th></th>\n",
       "      <th>LYLTY_CARD_NBR</th>\n",
       "      <th>DATE</th>\n",
       "      <th>STORE_NBR</th>\n",
       "      <th>TXN_ID</th>\n",
       "      <th>PROD_NBR</th>\n",
       "      <th>PROD_NAME</th>\n",
       "      <th>PROD_QTY</th>\n",
       "      <th>TOT_SALES</th>\n",
       "      <th>PACK_SIZE</th>\n",
       "      <th>BRAND</th>\n",
       "      <th>LIFESTAGE</th>\n",
       "      <th>PREMIUM_CUSTOMER</th>\n",
       "    </tr>\n",
       "  </thead>\n",
       "  <tbody>\n",
       "    <tr>\n",
       "      <th>0</th>\n",
       "      <td>1000</td>\n",
       "      <td>2018-10-17</td>\n",
       "      <td>1</td>\n",
       "      <td>1</td>\n",
       "      <td>5</td>\n",
       "      <td>Natural Chip        Compny SeaSalt175g</td>\n",
       "      <td>2</td>\n",
       "      <td>6.0</td>\n",
       "      <td>175</td>\n",
       "      <td>NATURAL</td>\n",
       "      <td>YOUNG SINGLES/COUPLES</td>\n",
       "      <td>Premium</td>\n",
       "    </tr>\n",
       "    <tr>\n",
       "      <th>1</th>\n",
       "      <td>1002</td>\n",
       "      <td>2018-09-16</td>\n",
       "      <td>1</td>\n",
       "      <td>2</td>\n",
       "      <td>58</td>\n",
       "      <td>Red Rock Deli Chikn&amp;Garlic Aioli 150g</td>\n",
       "      <td>1</td>\n",
       "      <td>2.7</td>\n",
       "      <td>150</td>\n",
       "      <td>RRD</td>\n",
       "      <td>YOUNG SINGLES/COUPLES</td>\n",
       "      <td>Mainstream</td>\n",
       "    </tr>\n",
       "    <tr>\n",
       "      <th>2</th>\n",
       "      <td>1003</td>\n",
       "      <td>2019-03-07</td>\n",
       "      <td>1</td>\n",
       "      <td>3</td>\n",
       "      <td>52</td>\n",
       "      <td>Grain Waves Sour    Cream&amp;Chives 210G</td>\n",
       "      <td>1</td>\n",
       "      <td>3.6</td>\n",
       "      <td>210</td>\n",
       "      <td>GRNWVES</td>\n",
       "      <td>YOUNG FAMILIES</td>\n",
       "      <td>Budget</td>\n",
       "    </tr>\n",
       "    <tr>\n",
       "      <th>3</th>\n",
       "      <td>1003</td>\n",
       "      <td>2019-03-08</td>\n",
       "      <td>1</td>\n",
       "      <td>4</td>\n",
       "      <td>106</td>\n",
       "      <td>Natural ChipCo      Hony Soy Chckn175g</td>\n",
       "      <td>1</td>\n",
       "      <td>3.0</td>\n",
       "      <td>175</td>\n",
       "      <td>NATURAL</td>\n",
       "      <td>YOUNG FAMILIES</td>\n",
       "      <td>Budget</td>\n",
       "    </tr>\n",
       "    <tr>\n",
       "      <th>4</th>\n",
       "      <td>1004</td>\n",
       "      <td>2018-11-02</td>\n",
       "      <td>1</td>\n",
       "      <td>5</td>\n",
       "      <td>96</td>\n",
       "      <td>WW Original Stacked Chips 160g</td>\n",
       "      <td>1</td>\n",
       "      <td>1.9</td>\n",
       "      <td>160</td>\n",
       "      <td>WOOLWORTHS</td>\n",
       "      <td>OLDER SINGLES/COUPLES</td>\n",
       "      <td>Mainstream</td>\n",
       "    </tr>\n",
       "    <tr>\n",
       "      <th>...</th>\n",
       "      <td>...</td>\n",
       "      <td>...</td>\n",
       "      <td>...</td>\n",
       "      <td>...</td>\n",
       "      <td>...</td>\n",
       "      <td>...</td>\n",
       "      <td>...</td>\n",
       "      <td>...</td>\n",
       "      <td>...</td>\n",
       "      <td>...</td>\n",
       "      <td>...</td>\n",
       "      <td>...</td>\n",
       "    </tr>\n",
       "    <tr>\n",
       "      <th>264829</th>\n",
       "      <td>2370701</td>\n",
       "      <td>2018-12-08</td>\n",
       "      <td>88</td>\n",
       "      <td>240378</td>\n",
       "      <td>24</td>\n",
       "      <td>Grain Waves         Sweet Chilli 210g</td>\n",
       "      <td>2</td>\n",
       "      <td>7.2</td>\n",
       "      <td>210</td>\n",
       "      <td>GRNWVES</td>\n",
       "      <td>YOUNG FAMILIES</td>\n",
       "      <td>Mainstream</td>\n",
       "    </tr>\n",
       "    <tr>\n",
       "      <th>264830</th>\n",
       "      <td>2370751</td>\n",
       "      <td>2018-10-01</td>\n",
       "      <td>88</td>\n",
       "      <td>240394</td>\n",
       "      <td>60</td>\n",
       "      <td>Kettle Tortilla ChpsFeta&amp;Garlic 150g</td>\n",
       "      <td>2</td>\n",
       "      <td>9.2</td>\n",
       "      <td>150</td>\n",
       "      <td>KETTLE</td>\n",
       "      <td>YOUNG FAMILIES</td>\n",
       "      <td>Premium</td>\n",
       "    </tr>\n",
       "    <tr>\n",
       "      <th>264831</th>\n",
       "      <td>2370961</td>\n",
       "      <td>2018-10-24</td>\n",
       "      <td>88</td>\n",
       "      <td>240480</td>\n",
       "      <td>70</td>\n",
       "      <td>Tyrrells Crisps     Lightly Salted 165g</td>\n",
       "      <td>2</td>\n",
       "      <td>8.4</td>\n",
       "      <td>165</td>\n",
       "      <td>TYRRELLS</td>\n",
       "      <td>OLDER FAMILIES</td>\n",
       "      <td>Budget</td>\n",
       "    </tr>\n",
       "    <tr>\n",
       "      <th>264832</th>\n",
       "      <td>2370961</td>\n",
       "      <td>2018-10-27</td>\n",
       "      <td>88</td>\n",
       "      <td>240481</td>\n",
       "      <td>65</td>\n",
       "      <td>Old El Paso Salsa   Dip Chnky Tom Ht300g</td>\n",
       "      <td>2</td>\n",
       "      <td>10.2</td>\n",
       "      <td>300</td>\n",
       "      <td>OLD</td>\n",
       "      <td>OLDER FAMILIES</td>\n",
       "      <td>Budget</td>\n",
       "    </tr>\n",
       "    <tr>\n",
       "      <th>264833</th>\n",
       "      <td>2373711</td>\n",
       "      <td>2018-12-14</td>\n",
       "      <td>88</td>\n",
       "      <td>241815</td>\n",
       "      <td>16</td>\n",
       "      <td>Smiths Crinkle Chips Salt &amp; Vinegar 330g</td>\n",
       "      <td>2</td>\n",
       "      <td>11.4</td>\n",
       "      <td>330</td>\n",
       "      <td>SMITHS</td>\n",
       "      <td>YOUNG SINGLES/COUPLES</td>\n",
       "      <td>Mainstream</td>\n",
       "    </tr>\n",
       "  </tbody>\n",
       "</table>\n",
       "<p>264834 rows × 12 columns</p>\n",
       "</div>"
      ],
      "text/plain": [
       "        LYLTY_CARD_NBR        DATE  STORE_NBR  TXN_ID  PROD_NBR  \\\n",
       "0                 1000  2018-10-17          1       1         5   \n",
       "1                 1002  2018-09-16          1       2        58   \n",
       "2                 1003  2019-03-07          1       3        52   \n",
       "3                 1003  2019-03-08          1       4       106   \n",
       "4                 1004  2018-11-02          1       5        96   \n",
       "...                ...         ...        ...     ...       ...   \n",
       "264829         2370701  2018-12-08         88  240378        24   \n",
       "264830         2370751  2018-10-01         88  240394        60   \n",
       "264831         2370961  2018-10-24         88  240480        70   \n",
       "264832         2370961  2018-10-27         88  240481        65   \n",
       "264833         2373711  2018-12-14         88  241815        16   \n",
       "\n",
       "                                       PROD_NAME  PROD_QTY  TOT_SALES  \\\n",
       "0         Natural Chip        Compny SeaSalt175g         2        6.0   \n",
       "1          Red Rock Deli Chikn&Garlic Aioli 150g         1        2.7   \n",
       "2          Grain Waves Sour    Cream&Chives 210G         1        3.6   \n",
       "3         Natural ChipCo      Hony Soy Chckn175g         1        3.0   \n",
       "4                 WW Original Stacked Chips 160g         1        1.9   \n",
       "...                                          ...       ...        ...   \n",
       "264829     Grain Waves         Sweet Chilli 210g         2        7.2   \n",
       "264830      Kettle Tortilla ChpsFeta&Garlic 150g         2        9.2   \n",
       "264831   Tyrrells Crisps     Lightly Salted 165g         2        8.4   \n",
       "264832  Old El Paso Salsa   Dip Chnky Tom Ht300g         2       10.2   \n",
       "264833  Smiths Crinkle Chips Salt & Vinegar 330g         2       11.4   \n",
       "\n",
       "        PACK_SIZE       BRAND              LIFESTAGE PREMIUM_CUSTOMER  \n",
       "0             175     NATURAL  YOUNG SINGLES/COUPLES          Premium  \n",
       "1             150         RRD  YOUNG SINGLES/COUPLES       Mainstream  \n",
       "2             210     GRNWVES         YOUNG FAMILIES           Budget  \n",
       "3             175     NATURAL         YOUNG FAMILIES           Budget  \n",
       "4             160  WOOLWORTHS  OLDER SINGLES/COUPLES       Mainstream  \n",
       "...           ...         ...                    ...              ...  \n",
       "264829        210     GRNWVES         YOUNG FAMILIES       Mainstream  \n",
       "264830        150      KETTLE         YOUNG FAMILIES          Premium  \n",
       "264831        165    TYRRELLS         OLDER FAMILIES           Budget  \n",
       "264832        300         OLD         OLDER FAMILIES           Budget  \n",
       "264833        330      SMITHS  YOUNG SINGLES/COUPLES       Mainstream  \n",
       "\n",
       "[264834 rows x 12 columns]"
      ]
     },
     "execution_count": 2,
     "metadata": {},
     "output_type": "execute_result"
    }
   ],
   "source": [
    "data = pd.read_csv('data/QVI_data.csv')\n",
    "data"
   ]
  },
  {
   "cell_type": "code",
   "execution_count": 3,
   "id": "c6b26073",
   "metadata": {},
   "outputs": [
    {
     "name": "stdout",
     "output_type": "stream",
     "text": [
      "<class 'pandas.core.frame.DataFrame'>\n",
      "RangeIndex: 264834 entries, 0 to 264833\n",
      "Data columns (total 12 columns):\n",
      " #   Column            Non-Null Count   Dtype  \n",
      "---  ------            --------------   -----  \n",
      " 0   LYLTY_CARD_NBR    264834 non-null  int64  \n",
      " 1   DATE              264834 non-null  object \n",
      " 2   STORE_NBR         264834 non-null  int64  \n",
      " 3   TXN_ID            264834 non-null  int64  \n",
      " 4   PROD_NBR          264834 non-null  int64  \n",
      " 5   PROD_NAME         264834 non-null  object \n",
      " 6   PROD_QTY          264834 non-null  int64  \n",
      " 7   TOT_SALES         264834 non-null  float64\n",
      " 8   PACK_SIZE         264834 non-null  int64  \n",
      " 9   BRAND             264834 non-null  object \n",
      " 10  LIFESTAGE         264834 non-null  object \n",
      " 11  PREMIUM_CUSTOMER  264834 non-null  object \n",
      "dtypes: float64(1), int64(6), object(5)\n",
      "memory usage: 24.2+ MB\n"
     ]
    }
   ],
   "source": [
    "data.info()"
   ]
  },
  {
   "cell_type": "markdown",
   "id": "fd7de2e3",
   "metadata": {},
   "source": [
    "no missing values is already great! Now let's check for anomalies"
   ]
  },
  {
   "cell_type": "markdown",
   "id": "5c8a3897",
   "metadata": {},
   "source": [
    "## Anomalies"
   ]
  },
  {
   "cell_type": "code",
   "execution_count": 4,
   "id": "6a37251b",
   "metadata": {
    "scrolled": false
   },
   "outputs": [
    {
     "data": {
      "text/plain": [
       "<Axes: >"
      ]
     },
     "execution_count": 4,
     "metadata": {},
     "output_type": "execute_result"
    },
    {
     "data": {
      "image/png": "[encoded data removed]",
      "text/plain": [
       "<Figure size 640x480 with 1 Axes>"
      ]
     },
     "metadata": {},
     "output_type": "display_data"
    }
   ],
   "source": [
    "data['TOT_SALES'].hist()"
   ]
  },
  {
   "cell_type": "code",
   "execution_count": 5,
   "id": "d8f16a03",
   "metadata": {},
   "outputs": [
    {
     "data": {
      "text/plain": [
       "<Axes: >"
      ]
     },
     "execution_count": 5,
     "metadata": {},
     "output_type": "execute_result"
    },
    {
     "data": {
      "image/png": "[encoded data removed]",
      "text/plain": [
       "<Figure size 640x480 with 1 Axes>"
      ]
     },
     "metadata": {},
     "output_type": "display_data"
    }
   ],
   "source": [
    "data['PROD_QTY'].hist()"
   ]
  },
  {
   "cell_type": "markdown",
   "id": "bd552c26",
   "metadata": {},
   "source": [
    "Distribution looks ok at first glance. Now let's move on to learning more about stores."
   ]
  },
  {
   "cell_type": "markdown",
   "id": "c79f4baa",
   "metadata": {},
   "source": [
    "## Stores"
   ]
  },
  {
   "cell_type": "code",
   "execution_count": 6,
   "id": "58087e40",
   "metadata": {},
   "outputs": [
    {
     "data": {
      "text/plain": [
       "226    2020\n",
       "88     1873\n",
       "93     1832\n",
       "165    1819\n",
       "237    1785\n",
       "       ... \n",
       "206       2\n",
       "31        2\n",
       "252       2\n",
       "76        1\n",
       "92        1\n",
       "Name: STORE_NBR, Length: 272, dtype: int64"
      ]
     },
     "execution_count": 6,
     "metadata": {},
     "output_type": "execute_result"
    }
   ],
   "source": [
    "data['STORE_NBR'].value_counts()"
   ]
  },
  {
   "cell_type": "code",
   "execution_count": 7,
   "id": "116dcee0",
   "metadata": {},
   "outputs": [
    {
     "data": {
      "text/plain": [
       "count     272.000000\n",
       "mean      973.654412\n",
       "std       587.775315\n",
       "min         1.000000\n",
       "25%       528.750000\n",
       "50%       679.000000\n",
       "75%      1525.250000\n",
       "max      2020.000000\n",
       "Name: STORE_NBR, dtype: float64"
      ]
     },
     "execution_count": 7,
     "metadata": {},
     "output_type": "execute_result"
    }
   ],
   "source": [
    "data['STORE_NBR'].value_counts().describe()"
   ]
  },
  {
   "cell_type": "code",
   "execution_count": 8,
   "id": "6cefb68c",
   "metadata": {},
   "outputs": [
    {
     "data": {
      "text/plain": [
       "<Axes: >"
      ]
     },
     "execution_count": 8,
     "metadata": {},
     "output_type": "execute_result"
    },
    {
     "data": {
      "image/png": "[encoded data removed]",
      "text/plain": [
       "<Figure size 640x480 with 1 Axes>"
      ]
     },
     "metadata": {},
     "output_type": "display_data"
    }
   ],
   "source": [
    "data['STORE_NBR'].value_counts().hist()"
   ]
  },
  {
   "cell_type": "markdown",
   "id": "c32a4ae0",
   "metadata": {},
   "source": [
    "Here we can see bimodal distribution. That could on one hand simplify searching for corresponding control stores. I believe we can without fear split the data in 2 parts an work with them separately since our goal is not analysis of each store but finding bescontrol store for each trial store. "
   ]
  },
  {
   "cell_type": "markdown",
   "id": "8a408b4b",
   "metadata": {},
   "source": [
    "## Total sales overview"
   ]
  },
  {
   "cell_type": "markdown",
   "id": "3b5c252e",
   "metadata": {},
   "source": [
    "Now let's look at time series plot of purchases. "
   ]
  },
  {
   "cell_type": "code",
   "execution_count": 9,
   "id": "3ba3969d",
   "metadata": {},
   "outputs": [
    {
     "data": {
      "image/png": "[encoded data removed]",
      "text/plain": [
       "<Figure size 900x900 with 1 Axes>"
      ]
     },
     "metadata": {},
     "output_type": "display_data"
    }
   ],
   "source": [
    "dates = data.groupby('DATE')['STORE_NBR'].count()\n",
    "dates.sort_values(ascending = True)\n",
    "dates.plot(figsize = (9,9))\n",
    "plt.xticks(rotation = 90)\n",
    "plt.show()"
   ]
  },
  {
   "cell_type": "markdown",
   "id": "41285c3b",
   "metadata": {},
   "source": [
    "Looks like we have 1 year Dataframe. \n",
    "\n",
    "Some Christmas/New Year sales increase we can see. Also there's some volatility. It could be seasonalty (weekly? monthly?) as well, we need to dig deeper if we want to check this. "
   ]
  },
  {
   "cell_type": "markdown",
   "id": "f24f1855",
   "metadata": {},
   "source": [
    "Also I gues we have to maybe sort all values in a timeline order. Then we could maybe aggregate all the data by day/store/ \n",
    "\n",
    "365 days * 272 stores = 99280 aggregated columns let's see what we have now"
   ]
  },
  {
   "cell_type": "code",
   "execution_count": 10,
   "id": "aab4e1bc",
   "metadata": {},
   "outputs": [
    {
     "name": "stdout",
     "output_type": "stream",
     "text": [
      "DATE        STORE_NBR\n",
      "2018-07-01  1             2\n",
      "            2             3\n",
      "            3             2\n",
      "            4             9\n",
      "            5             4\n",
      "                         ..\n",
      "2019-06-30  266           1\n",
      "            268           3\n",
      "            269          10\n",
      "            271           8\n",
      "            272           4\n",
      "Name: PROD_QTY, Length: 78641, dtype: int64\n"
     ]
    }
   ],
   "source": [
    "print(data.groupby(['DATE','STORE_NBR'])['PROD_QTY'].sum())"
   ]
  },
  {
   "cell_type": "markdown",
   "id": "9569bf12",
   "metadata": {},
   "source": [
    "It won't be much longer then it already is. However to simplify everything we might probably want to select the shops we want to delete already now. Or not? Let's look at trial stores first and see what we can understand. "
   ]
  },
  {
   "cell_type": "markdown",
   "id": "0e1b6b77",
   "metadata": {},
   "source": [
    "## Taking a look at trial stores"
   ]
  },
  {
   "cell_type": "code",
   "execution_count": 11,
   "id": "7bc23b9c",
   "metadata": {},
   "outputs": [],
   "source": [
    "trial_stores = [77, 86, 88]"
   ]
  },
  {
   "cell_type": "code",
   "execution_count": 12,
   "id": "92d31689",
   "metadata": {},
   "outputs": [],
   "source": [
    "indicators = ['PROD_QTY', 'TOT_SALES', 'PACK_SIZE']"
   ]
  },
  {
   "cell_type": "code",
   "execution_count": 13,
   "id": "40480fb7",
   "metadata": {
    "scrolled": false
   },
   "outputs": [
    {
     "name": "stdout",
     "output_type": "stream",
     "text": [
      "         PROD_QTY   TOT_SALES   PACK_SIZE\n",
      "count  563.000000  563.000000  563.000000\n",
      "mean     1.548845    5.399645  178.772647\n",
      "std      0.532580    2.619975   55.865607\n",
      "min      1.000000    1.500000   70.000000\n",
      "25%      1.000000    3.400000  150.000000\n",
      "50%      2.000000    5.200000  175.000000\n",
      "75%      2.000000    7.200000  175.000000\n",
      "max      5.000000   25.500000  380.000000\n",
      "          PROD_QTY    TOT_SALES    PACK_SIZE\n",
      "count  1538.000000  1538.000000  1538.000000\n",
      "mean      1.993498     6.915052   177.393368\n",
      "std       0.239190     2.303514    57.725141\n",
      "min       1.000000     1.800000    70.000000\n",
      "25%       2.000000     5.400000   150.000000\n",
      "50%       2.000000     6.600000   170.000000\n",
      "75%       2.000000     8.800000   175.000000\n",
      "max       5.000000    16.800000   380.000000\n",
      "          PROD_QTY    TOT_SALES    PACK_SIZE\n",
      "count  1873.000000  1873.000000  1873.000000\n",
      "mean      1.985051     8.720368   183.349172\n",
      "std       0.203576     1.763947    71.139450\n",
      "min       1.000000     3.250000   110.000000\n",
      "25%       2.000000     7.400000   134.000000\n",
      "50%       2.000000     8.600000   170.000000\n",
      "75%       2.000000    10.200000   175.000000\n",
      "max       5.000000    22.800000   380.000000\n"
     ]
    }
   ],
   "source": [
    "for i in trial_stores:\n",
    "    print(data[data['STORE_NBR']==i][indicators].describe())"
   ]
  },
  {
   "cell_type": "markdown",
   "id": "30b40bd3",
   "metadata": {},
   "source": [
    "* 77 - not a lot of sales - 563 for the year, 1.5 packs average, 5.4 Usd - mean purchase\n",
    "* 86 - a lot of sales - 1538 for the year, 2 packs average, 6.9 Usd - mean purchase\n",
    "* 88 - a lot of sales 1873 for the year, 2 packs average, 8.7 Usd - mean purchase\n",
    "\n",
    "pack sizes are more or less equal"
   ]
  },
  {
   "cell_type": "markdown",
   "id": "f4b849ba",
   "metadata": {},
   "source": [
    "So what's the plan? \n",
    "We need to find a corresponding control store for each trial store. Normally I would add some parameters and maybe split and use some clusterization or nearest neighbors method. (I even could split our dataset in 2 parts so that it would accelerate data processing in case we use hard models like etna clusterization in data series format). So the thing is if we should judge by aggregated numbers or by time series. \n",
    "\n",
    "However I'd like to raise my concerns first. I believe if we compare data as it is, we will have data leaks. So I'd like to somehow exclude the test period to avoid this data leakage. Trial layout was from start of February 2019 till the end of April. (02.19-04.19). So the question is - if we exclude trial layout period data what we do with May and June? \n",
    "I think I'd like to just delete this data beceasue 2 month is not much and the are already after the trial period - so not sure if there will be any aftereffect. "
   ]
  },
  {
   "cell_type": "markdown",
   "id": "8ce2f766",
   "metadata": {},
   "source": [
    "# Dropping non-relevant periods and reassessment. "
   ]
  },
  {
   "cell_type": "code",
   "execution_count": 17,
   "id": "e15a5625",
   "metadata": {},
   "outputs": [],
   "source": [
    "data['DATE'] = pd.to_datetime(data['DATE'])"
   ]
  },
  {
   "cell_type": "code",
   "execution_count": 18,
   "id": "a51940b5",
   "metadata": {},
   "outputs": [
    {
     "data": {
      "text/plain": [
       "LYLTY_CARD_NBR               int64\n",
       "DATE                datetime64[ns]\n",
       "STORE_NBR                    int64\n",
       "TXN_ID                       int64\n",
       "PROD_NBR                     int64\n",
       "PROD_NAME                   object\n",
       "PROD_QTY                     int64\n",
       "TOT_SALES                  float64\n",
       "PACK_SIZE                    int64\n",
       "BRAND                       object\n",
       "LIFESTAGE                   object\n",
       "PREMIUM_CUSTOMER            object\n",
       "dtype: object"
      ]
     },
     "execution_count": 18,
     "metadata": {},
     "output_type": "execute_result"
    }
   ],
   "source": [
    "data.dtypes"
   ]
  },
  {
   "cell_type": "code",
   "execution_count": 20,
   "id": "fbfa1939",
   "metadata": {},
   "outputs": [],
   "source": [
    "#data"
   ]
  },
  {
   "cell_type": "code",
   "execution_count": 35,
   "id": "d973f8c6",
   "metadata": {},
   "outputs": [],
   "source": [
    "df = data[data['DATE']< '2019-02-01'].copy()"
   ]
  },
  {
   "cell_type": "code",
   "execution_count": 36,
   "id": "104a4ee1",
   "metadata": {},
   "outputs": [
    {
     "data": {
      "text/html": [
       "<div>\n",
       "<style scoped>\n",
       "    .dataframe tbody tr th:only-of-type {\n",
       "        vertical-align: middle;\n",
       "    }\n",
       "\n",
       "    .dataframe tbody tr th {\n",
       "        vertical-align: top;\n",
       "    }\n",
       "\n",
       "    .dataframe thead th {\n",
       "        text-align: right;\n",
       "    }\n",
       "</style>\n",
       "<table border=\"1\" class=\"dataframe\">\n",
       "  <thead>\n",
       "    <tr style=\"text-align: right;\">\n",
       "      <th></th>\n",
       "      <th>LYLTY_CARD_NBR</th>\n",
       "      <th>DATE</th>\n",
       "      <th>STORE_NBR</th>\n",
       "      <th>TXN_ID</th>\n",
       "      <th>PROD_NBR</th>\n",
       "      <th>PROD_NAME</th>\n",
       "      <th>PROD_QTY</th>\n",
       "      <th>TOT_SALES</th>\n",
       "      <th>PACK_SIZE</th>\n",
       "      <th>BRAND</th>\n",
       "      <th>LIFESTAGE</th>\n",
       "      <th>PREMIUM_CUSTOMER</th>\n",
       "    </tr>\n",
       "  </thead>\n",
       "  <tbody>\n",
       "    <tr>\n",
       "      <th>76844</th>\n",
       "      <td>80047</td>\n",
       "      <td>2018-07-01</td>\n",
       "      <td>80</td>\n",
       "      <td>78468</td>\n",
       "      <td>44</td>\n",
       "      <td>Thins Chips Light&amp;  Tangy 175g</td>\n",
       "      <td>2</td>\n",
       "      <td>6.6</td>\n",
       "      <td>175</td>\n",
       "      <td>THINS</td>\n",
       "      <td>OLDER SINGLES/COUPLES</td>\n",
       "      <td>Budget</td>\n",
       "    </tr>\n",
       "    <tr>\n",
       "      <th>194872</th>\n",
       "      <td>199302</td>\n",
       "      <td>2018-07-01</td>\n",
       "      <td>199</td>\n",
       "      <td>198907</td>\n",
       "      <td>23</td>\n",
       "      <td>Cheezels Cheese 330g</td>\n",
       "      <td>2</td>\n",
       "      <td>11.4</td>\n",
       "      <td>330</td>\n",
       "      <td>CHEEZELS</td>\n",
       "      <td>OLDER SINGLES/COUPLES</td>\n",
       "      <td>Mainstream</td>\n",
       "    </tr>\n",
       "    <tr>\n",
       "      <th>9344</th>\n",
       "      <td>10089</td>\n",
       "      <td>2018-07-01</td>\n",
       "      <td>10</td>\n",
       "      <td>9563</td>\n",
       "      <td>102</td>\n",
       "      <td>Kettle Mozzarella   Basil &amp; Pesto 175g</td>\n",
       "      <td>2</td>\n",
       "      <td>10.8</td>\n",
       "      <td>175</td>\n",
       "      <td>KETTLE</td>\n",
       "      <td>YOUNG FAMILIES</td>\n",
       "      <td>Premium</td>\n",
       "    </tr>\n",
       "    <tr>\n",
       "      <th>83528</th>\n",
       "      <td>86187</td>\n",
       "      <td>2018-07-01</td>\n",
       "      <td>86</td>\n",
       "      <td>85295</td>\n",
       "      <td>74</td>\n",
       "      <td>Tostitos Splash Of  Lime 175g</td>\n",
       "      <td>2</td>\n",
       "      <td>8.8</td>\n",
       "      <td>175</td>\n",
       "      <td>TOSTITOS</td>\n",
       "      <td>YOUNG SINGLES/COUPLES</td>\n",
       "      <td>Mainstream</td>\n",
       "    </tr>\n",
       "    <tr>\n",
       "      <th>71315</th>\n",
       "      <td>73443</td>\n",
       "      <td>2018-07-01</td>\n",
       "      <td>73</td>\n",
       "      <td>72807</td>\n",
       "      <td>54</td>\n",
       "      <td>CCs Original 175g</td>\n",
       "      <td>1</td>\n",
       "      <td>2.1</td>\n",
       "      <td>175</td>\n",
       "      <td>CCS</td>\n",
       "      <td>OLDER SINGLES/COUPLES</td>\n",
       "      <td>Budget</td>\n",
       "    </tr>\n",
       "    <tr>\n",
       "      <th>...</th>\n",
       "      <td>...</td>\n",
       "      <td>...</td>\n",
       "      <td>...</td>\n",
       "      <td>...</td>\n",
       "      <td>...</td>\n",
       "      <td>...</td>\n",
       "      <td>...</td>\n",
       "      <td>...</td>\n",
       "      <td>...</td>\n",
       "      <td>...</td>\n",
       "      <td>...</td>\n",
       "      <td>...</td>\n",
       "    </tr>\n",
       "    <tr>\n",
       "      <th>169827</th>\n",
       "      <td>172099</td>\n",
       "      <td>2019-01-31</td>\n",
       "      <td>172</td>\n",
       "      <td>173347</td>\n",
       "      <td>14</td>\n",
       "      <td>Smiths Crnkle Chip  Orgnl Big Bag 380g</td>\n",
       "      <td>2</td>\n",
       "      <td>11.8</td>\n",
       "      <td>380</td>\n",
       "      <td>SMITHS</td>\n",
       "      <td>OLDER SINGLES/COUPLES</td>\n",
       "      <td>Budget</td>\n",
       "    </tr>\n",
       "    <tr>\n",
       "      <th>222366</th>\n",
       "      <td>226141</td>\n",
       "      <td>2019-01-31</td>\n",
       "      <td>226</td>\n",
       "      <td>226974</td>\n",
       "      <td>24</td>\n",
       "      <td>Grain Waves         Sweet Chilli 210g</td>\n",
       "      <td>2</td>\n",
       "      <td>7.2</td>\n",
       "      <td>210</td>\n",
       "      <td>GRNWVES</td>\n",
       "      <td>YOUNG FAMILIES</td>\n",
       "      <td>Premium</td>\n",
       "    </tr>\n",
       "    <tr>\n",
       "      <th>123986</th>\n",
       "      <td>123106</td>\n",
       "      <td>2019-01-31</td>\n",
       "      <td>123</td>\n",
       "      <td>126541</td>\n",
       "      <td>25</td>\n",
       "      <td>Pringles SourCream  Onion 134g</td>\n",
       "      <td>2</td>\n",
       "      <td>7.4</td>\n",
       "      <td>134</td>\n",
       "      <td>PRINGLES</td>\n",
       "      <td>RETIREES</td>\n",
       "      <td>Premium</td>\n",
       "    </tr>\n",
       "    <tr>\n",
       "      <th>6759</th>\n",
       "      <td>7154</td>\n",
       "      <td>2019-01-31</td>\n",
       "      <td>7</td>\n",
       "      <td>6925</td>\n",
       "      <td>9</td>\n",
       "      <td>Kettle Tortilla ChpsBtroot&amp;Ricotta 150g</td>\n",
       "      <td>1</td>\n",
       "      <td>4.6</td>\n",
       "      <td>150</td>\n",
       "      <td>KETTLE</td>\n",
       "      <td>OLDER FAMILIES</td>\n",
       "      <td>Budget</td>\n",
       "    </tr>\n",
       "    <tr>\n",
       "      <th>48816</th>\n",
       "      <td>55225</td>\n",
       "      <td>2019-01-31</td>\n",
       "      <td>55</td>\n",
       "      <td>49853</td>\n",
       "      <td>83</td>\n",
       "      <td>WW D/Style Chip     Sea Salt 200g</td>\n",
       "      <td>2</td>\n",
       "      <td>3.8</td>\n",
       "      <td>200</td>\n",
       "      <td>WOOLWORTHS</td>\n",
       "      <td>MIDAGE SINGLES/COUPLES</td>\n",
       "      <td>Mainstream</td>\n",
       "    </tr>\n",
       "  </tbody>\n",
       "</table>\n",
       "<p>155851 rows × 12 columns</p>\n",
       "</div>"
      ],
      "text/plain": [
       "        LYLTY_CARD_NBR       DATE  STORE_NBR  TXN_ID  PROD_NBR  \\\n",
       "76844            80047 2018-07-01         80   78468        44   \n",
       "194872          199302 2018-07-01        199  198907        23   \n",
       "9344             10089 2018-07-01         10    9563       102   \n",
       "83528            86187 2018-07-01         86   85295        74   \n",
       "71315            73443 2018-07-01         73   72807        54   \n",
       "...                ...        ...        ...     ...       ...   \n",
       "169827          172099 2019-01-31        172  173347        14   \n",
       "222366          226141 2019-01-31        226  226974        24   \n",
       "123986          123106 2019-01-31        123  126541        25   \n",
       "6759              7154 2019-01-31          7    6925         9   \n",
       "48816            55225 2019-01-31         55   49853        83   \n",
       "\n",
       "                                      PROD_NAME  PROD_QTY  TOT_SALES  \\\n",
       "76844            Thins Chips Light&  Tangy 175g         2        6.6   \n",
       "194872                     Cheezels Cheese 330g         2       11.4   \n",
       "9344     Kettle Mozzarella   Basil & Pesto 175g         2       10.8   \n",
       "83528             Tostitos Splash Of  Lime 175g         2        8.8   \n",
       "71315                         CCs Original 175g         1        2.1   \n",
       "...                                         ...       ...        ...   \n",
       "169827   Smiths Crnkle Chip  Orgnl Big Bag 380g         2       11.8   \n",
       "222366    Grain Waves         Sweet Chilli 210g         2        7.2   \n",
       "123986           Pringles SourCream  Onion 134g         2        7.4   \n",
       "6759    Kettle Tortilla ChpsBtroot&Ricotta 150g         1        4.6   \n",
       "48816         WW D/Style Chip     Sea Salt 200g         2        3.8   \n",
       "\n",
       "        PACK_SIZE       BRAND               LIFESTAGE PREMIUM_CUSTOMER  \n",
       "76844         175       THINS   OLDER SINGLES/COUPLES           Budget  \n",
       "194872        330    CHEEZELS   OLDER SINGLES/COUPLES       Mainstream  \n",
       "9344          175      KETTLE          YOUNG FAMILIES          Premium  \n",
       "83528         175    TOSTITOS   YOUNG SINGLES/COUPLES       Mainstream  \n",
       "71315         175         CCS   OLDER SINGLES/COUPLES           Budget  \n",
       "...           ...         ...                     ...              ...  \n",
       "169827        380      SMITHS   OLDER SINGLES/COUPLES           Budget  \n",
       "222366        210     GRNWVES          YOUNG FAMILIES          Premium  \n",
       "123986        134    PRINGLES                RETIREES          Premium  \n",
       "6759          150      KETTLE          OLDER FAMILIES           Budget  \n",
       "48816         200  WOOLWORTHS  MIDAGE SINGLES/COUPLES       Mainstream  \n",
       "\n",
       "[155851 rows x 12 columns]"
      ]
     },
     "metadata": {},
     "output_type": "display_data"
    }
   ],
   "source": [
    "display(df.sort_values(by='DATE', ascending=True))"
   ]
  },
  {
   "cell_type": "markdown",
   "id": "7ba9ba32",
   "metadata": {},
   "source": [
    "# Part 3"
   ]
  },
  {
   "cell_type": "code",
   "execution_count": null,
   "id": "890e3cc6",
   "metadata": {},
   "outputs": [],
   "source": []
  },
  {
   "cell_type": "code",
   "execution_count": 14,
   "id": "3fe86870",
   "metadata": {},
   "outputs": [],
   "source": [
    "## ideas for metrics:\n",
    "#customer spending per chip packet\n",
    "#perchases per customer\n"
   ]
  },
  {
   "cell_type": "markdown",
   "id": "891341bb",
   "metadata": {},
   "source": [
    "Possible params: \n",
    "- total sales revenue\n",
    "- total number of customers\n",
    "- average number of transactions per customer"
   ]
  }
 ],
 "metadata": {
  "kernelspec": {
   "display_name": "Python 3.9 (pytorch)",
   "language": "python",
   "name": "pytorch"
  },
  "language_info": {
   "codemirror_mode": {
    "name": "ipython",
    "version": 3
   },
   "file_extension": ".py",
   "mimetype": "text/x-python",
   "name": "python",
   "nbconvert_exporter": "python",
   "pygments_lexer": "ipython3",
   "version": "3.9.17"
  },
  "toc": {
   "base_numbering": 1,
   "nav_menu": {},
   "number_sections": true,
   "sideBar": true,
   "skip_h1_title": false,
   "title_cell": "Table of Contents",
   "title_sidebar": "Contents",
   "toc_cell": false,
   "toc_position": {
    "height": "calc(100% - 180px)",
    "left": "10px",
    "top": "150px",
    "width": "338.823517px"
   },
   "toc_section_display": true,
   "toc_window_display": true
  }
 },
 "nbformat": 4,
 "nbformat_minor": 5
}
